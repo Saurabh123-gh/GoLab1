{
  "nbformat": 4,
  "nbformat_minor": 0,
  "metadata": {
    "colab": {
      "name": "FirstGoLab.ipynb",
      "provenance": [],
      "collapsed_sections": [],
      "authorship_tag": "ABX9TyN5nnbLupneEaUM9hxAthNj",
      "include_colab_link": true
    },
    "kernelspec": {
      "name": "python3",
      "display_name": "Python 3"
    },
    "accelerator": "GPU"
  },
  "cells": [
    {
      "cell_type": "markdown",
      "metadata": {
        "id": "view-in-github",
        "colab_type": "text"
      },
      "source": [
        "<a href=\"https://colab.research.google.com/github/Saurabh123-gh/GoLab1/blob/master/FirstGoLab.ipynb\" target=\"_parent\"><img src=\"https://colab.research.google.com/assets/colab-badge.svg\" alt=\"Open In Colab\"/></a>"
      ]
    },
    {
      "cell_type": "code",
      "metadata": {
        "id": "ZUFVhT1ghw7A",
        "colab_type": "code",
        "colab": {}
      },
      "source": [
        "import numpy as np\n",
        "import tensorflow as tf"
      ],
      "execution_count": 0,
      "outputs": []
    },
    {
      "cell_type": "code",
      "metadata": {
        "id": "DHmWLSqTiySN",
        "colab_type": "code",
        "colab": {}
      },
      "source": [
        "celcius_q = np.array([-1,-23,45,100,67,89],dtype=float)\n",
        "franhiet_q = np.array([30.2,-9.4,113,212,152.6,192.2],dtype=float)\n"
      ],
      "execution_count": 0,
      "outputs": []
    },
    {
      "cell_type": "code",
      "metadata": {
        "id": "dNCsA-tHrMDD",
        "colab_type": "code",
        "outputId": "97865d1d-4feb-4764-e825-b4ac0adb2a0e",
        "colab": {
          "base_uri": "https://localhost:8080/",
          "height": 118
        }
      },
      "source": [
        "for i,c in enumerate(celcius_q):\n",
        "  print(\"{} degree celcius =  {} farenhiet\".format(c,franhiet_q[i]))"
      ],
      "execution_count": 0,
      "outputs": [
        {
          "output_type": "stream",
          "text": [
            "-1.0 degree celcius =  30.2 farenhiet\n",
            "-23.0 degree celcius =  -9.4 farenhiet\n",
            "45.0 degree celcius =  113.0 farenhiet\n",
            "100.0 degree celcius =  212.0 farenhiet\n",
            "67.0 degree celcius =  152.6 farenhiet\n",
            "89.0 degree celcius =  192.2 farenhiet\n"
          ],
          "name": "stdout"
        }
      ]
    },
    {
      "cell_type": "code",
      "metadata": {
        "id": "BDcDm574yUeN",
        "colab_type": "code",
        "colab": {}
      },
      "source": [
        "l0 = tf.keras.layers.Dense(units=1, input_shape=[1])"
      ],
      "execution_count": 0,
      "outputs": []
    },
    {
      "cell_type": "code",
      "metadata": {
        "id": "XeqwC2jBzmSp",
        "colab_type": "code",
        "colab": {}
      },
      "source": [
        "model = tf.keras.Sequential([l0])"
      ],
      "execution_count": 0,
      "outputs": []
    },
    {
      "cell_type": "code",
      "metadata": {
        "id": "y0eGWudw0F3A",
        "colab_type": "code",
        "colab": {}
      },
      "source": [
        "model.compile(loss='mean_squared_error', optimizer = tf.keras.optimizers.Adam(0.1))"
      ],
      "execution_count": 0,
      "outputs": []
    },
    {
      "cell_type": "code",
      "metadata": {
        "id": "51mwP2Xx0G8k",
        "colab_type": "code",
        "colab": {}
      },
      "source": [
        "history = model.fit(celcius_q, franhiet_q, epochs=1000, verbose=0)"
      ],
      "execution_count": 0,
      "outputs": []
    },
    {
      "cell_type": "code",
      "metadata": {
        "id": "u2_U4j1K2UOO",
        "colab_type": "code",
        "outputId": "a08d1d9c-9393-4425-d8b8-385a7e81a5e8",
        "colab": {
          "base_uri": "https://localhost:8080/",
          "height": 296
        }
      },
      "source": [
        "import matplotlib.pyplot as plt\n",
        "plt.xlabel('Epoch Number')\n",
        "plt.ylabel(\"Loss Magnitude\")\n",
        "plt.plot(history.history['loss'])"
      ],
      "execution_count": 0,
      "outputs": [
        {
          "output_type": "execute_result",
          "data": {
            "text/plain": [
              "[<matplotlib.lines.Line2D at 0x7fae20565128>]"
            ]
          },
          "metadata": {
            "tags": []
          },
          "execution_count": 9
        },
        {
          "output_type": "display_data",
          "data": {
            "image/png": "[encoded data removed]",
            "text/plain": [
              "<Figure size 432x288 with 1 Axes>"
            ]
          },
          "metadata": {
            "tags": []
          }
        }
      ]
    },
    {
      "cell_type": "code",
      "metadata": {
        "id": "n5MBXkZ30LAj",
        "colab_type": "code",
        "outputId": "93cff38d-01a0-4c28-9b3c-ce02c5f582b9",
        "colab": {
          "base_uri": "https://localhost:8080/",
          "height": 34
        }
      },
      "source": [
        "print(model.predict([45]))"
      ],
      "execution_count": 0,
      "outputs": [
        {
          "output_type": "stream",
          "text": [
            "[[112.97469]]\n"
          ],
          "name": "stdout"
        }
      ]
    },
    {
      "cell_type": "code",
      "metadata": {
        "id": "SHKHFpMH_NqK",
        "colab_type": "code",
        "outputId": "760e7e1c-f2b6-4afd-dadc-dc9092ed1f34",
        "colab": {
          "base_uri": "https://localhost:8080/",
          "height": 34
        }
      },
      "source": [
        "print(\"these are layer variables {}\".format(l0.get_weights()))"
      ],
      "execution_count": 0,
      "outputs": [
        {
          "output_type": "stream",
          "text": [
            "these are layer variables [array([[1.8005642]], dtype=float32), array([31.9493], dtype=float32)]\n"
          ],
          "name": "stdout"
        }
      ]
    },
    {
      "cell_type": "code",
      "metadata": {
        "id": "Yt5tkbs9AzQT",
        "colab_type": "code",
        "outputId": "68178d73-2419-4ed7-ec56-8e54e2278124",
        "colab": {
          "base_uri": "https://localhost:8080/",
          "height": 252
        }
      },
      "source": [
        "l1 = tf.keras.layers.Dense(units=4, input_shape=[1])\n",
        "l2 = tf.keras.layers.Dense(units=4)\n",
        "l3 = tf.keras.layers.Dense(units=1)\n",
        "model = tf.keras.Sequential([l1, l2, l3])\n",
        "model.compile(loss='mean_squared_error', optimizer=tf.keras.optimizers.Adam(0.1))\n",
        "model.fit(celcius_q, franhiet_q, epochs=500, verbose=False)\n",
        "print(\"Finished training the model\")\n",
        "print(model.predict([100.0]))\n",
        "print(\"Model predicts that 100 degrees Celsius is: {} degrees Fahrenheit\".format(model.predict([100.0])))\n",
        "print(\"These are the l0 variables: {}\".format(l1.get_weights()))\n",
        "print(\"These are the l1 variables: {}\".format(l2.get_weights()))\n",
        "print(\"These are the l2 variables: {}\".format(l3.get_weights()))"
      ],
      "execution_count": 0,
      "outputs": [
        {
          "output_type": "stream",
          "text": [
            "Finished training the model\n",
            "[[212.]]\n",
            "Model predicts that 100 degrees Celsius is: [[212.]] degrees Fahrenheit\n",
            "These are the l0 variables: [array([[ 0.05413377, -0.06139265,  0.5102183 , -0.75493175]],\n",
            "      dtype=float32), array([ 4.194965  ,  0.97754896,  4.563331  , -4.428367  ], dtype=float32)]\n",
            "These are the l1 variables: [array([[-0.09589683, -0.9381923 ,  0.12365901, -0.46000043],\n",
            "       [-0.56524694, -0.5371645 ,  0.45970708,  0.5789882 ],\n",
            "       [ 0.7860547 , -0.5637971 ,  0.30462557,  0.33168676],\n",
            "       [-0.49548164,  0.68121284, -0.6684031 ,  0.733803  ]],\n",
            "      dtype=float32), array([ 4.367119, -4.226187,  4.359707, -4.071817], dtype=float32)]\n",
            "These are the l2 variables: [array([[ 0.5060469],\n",
            "       [-1.0911794],\n",
            "       [ 0.5258614],\n",
            "       [-0.3651952]], dtype=float32), array([4.061314], dtype=float32)]\n"
          ],
          "name": "stdout"
        }
      ]
    }
  ]
}